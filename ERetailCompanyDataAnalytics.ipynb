{
 "cells": [
  {
   "cell_type": "markdown",
   "id": "09a836bf",
   "metadata": {},
   "source": [
    "# E-Retail Company Data Analytics\n",
    "\n",
    "This project is aimed to walk through the complete workflow of a machine learning project; from data wrangling, exploratory data analysis (EDA), model training and model evaluation/comparison. "
   ]
  },
  {
   "cell_type": "markdown",
   "id": "3d5b846e",
   "metadata": {},
   "source": [
    "\n",
    "## Part I: Preprocessing and EDA\n",
    "\n",
    "- The data comes from a global e-retailer company, including orders from 2012 to 2015. Import the **Orders** dataset and do some basic EDA. \n",
    "- For problem 1 to 3, we mainly focus on data cleaning and data visualizations. You can use all the packages that you are familiar with to conduct some plots and also provide **brief interpretations** about your findings."
   ]
  },
  {
   "cell_type": "code",
   "execution_count": 2,
   "id": "de786359",
   "metadata": {},
   "outputs": [
    {
     "data": {
      "text/plain": [
       "['Orders.csv', '.DS_Store', 'Returns.csv']"
      ]
     },
     "execution_count": 2,
     "metadata": {},
     "output_type": "execute_result"
    }
   ],
   "source": [
    "import os\n",
    "import pandas as pd\n",
    "import numpy as np\n",
    "\n",
    "\n",
    "os.listdir(\"./data\")"
   ]
  },
  {
   "cell_type": "code",
   "execution_count": 3,
   "id": "dfa32b47",
   "metadata": {},
   "outputs": [
    {
     "name": "stdout",
     "output_type": "stream",
     "text": [
      "Reading in the CSV data files\n"
     ]
    }
   ],
   "source": [
    "print(\"Reading in the CSV data files\")\n",
    "orders_df = pd.read_csv(\"./data/Orders.csv\")\n",
    "returns_df = pd.read_csv(\"./data/Returns.csv\")"
   ]
  },
  {
   "cell_type": "code",
   "execution_count": 4,
   "id": "73cd5ea7",
   "metadata": {},
   "outputs": [
    {
     "data": {
      "text/html": [
       "<div>\n",
       "<style scoped>\n",
       "    .dataframe tbody tr th:only-of-type {\n",
       "        vertical-align: middle;\n",
       "    }\n",
       "\n",
       "    .dataframe tbody tr th {\n",
       "        vertical-align: top;\n",
       "    }\n",
       "\n",
       "    .dataframe thead th {\n",
       "        text-align: right;\n",
       "    }\n",
       "</style>\n",
       "<table border=\"1\" class=\"dataframe\">\n",
       "  <thead>\n",
       "    <tr style=\"text-align: right;\">\n",
       "      <th></th>\n",
       "      <th>0</th>\n",
       "      <th>1</th>\n",
       "      <th>2</th>\n",
       "    </tr>\n",
       "  </thead>\n",
       "  <tbody>\n",
       "    <tr>\n",
       "      <th>Row.ID</th>\n",
       "      <td>40098</td>\n",
       "      <td>26341</td>\n",
       "      <td>25330</td>\n",
       "    </tr>\n",
       "    <tr>\n",
       "      <th>Order.ID</th>\n",
       "      <td>CA-2014-AB10015140-41954</td>\n",
       "      <td>IN-2014-JR162107-41675</td>\n",
       "      <td>IN-2014-CR127307-41929</td>\n",
       "    </tr>\n",
       "    <tr>\n",
       "      <th>Order.Date</th>\n",
       "      <td>11/11/14</td>\n",
       "      <td>2/5/14</td>\n",
       "      <td>10/17/14</td>\n",
       "    </tr>\n",
       "    <tr>\n",
       "      <th>Ship.Date</th>\n",
       "      <td>11/13/14</td>\n",
       "      <td>2/7/14</td>\n",
       "      <td>10/18/14</td>\n",
       "    </tr>\n",
       "    <tr>\n",
       "      <th>Ship.Mode</th>\n",
       "      <td>First Class</td>\n",
       "      <td>Second Class</td>\n",
       "      <td>First Class</td>\n",
       "    </tr>\n",
       "    <tr>\n",
       "      <th>Customer.ID</th>\n",
       "      <td>AB-100151402</td>\n",
       "      <td>JR-162107</td>\n",
       "      <td>CR-127307</td>\n",
       "    </tr>\n",
       "    <tr>\n",
       "      <th>Customer.Name</th>\n",
       "      <td>Aaron Bergman</td>\n",
       "      <td>Justin Ritter</td>\n",
       "      <td>Craig Reiter</td>\n",
       "    </tr>\n",
       "    <tr>\n",
       "      <th>Segment</th>\n",
       "      <td>Consumer</td>\n",
       "      <td>Corporate</td>\n",
       "      <td>Consumer</td>\n",
       "    </tr>\n",
       "    <tr>\n",
       "      <th>Postal.Code</th>\n",
       "      <td>73120.0</td>\n",
       "      <td>NaN</td>\n",
       "      <td>NaN</td>\n",
       "    </tr>\n",
       "    <tr>\n",
       "      <th>City</th>\n",
       "      <td>Oklahoma City</td>\n",
       "      <td>Wollongong</td>\n",
       "      <td>Brisbane</td>\n",
       "    </tr>\n",
       "    <tr>\n",
       "      <th>State</th>\n",
       "      <td>Oklahoma</td>\n",
       "      <td>New South Wales</td>\n",
       "      <td>Queensland</td>\n",
       "    </tr>\n",
       "    <tr>\n",
       "      <th>Country</th>\n",
       "      <td>United States</td>\n",
       "      <td>Australia</td>\n",
       "      <td>Australia</td>\n",
       "    </tr>\n",
       "    <tr>\n",
       "      <th>Region</th>\n",
       "      <td>Central US</td>\n",
       "      <td>Oceania</td>\n",
       "      <td>Oceania</td>\n",
       "    </tr>\n",
       "    <tr>\n",
       "      <th>Market</th>\n",
       "      <td>USCA</td>\n",
       "      <td>Asia Pacific</td>\n",
       "      <td>Asia Pacific</td>\n",
       "    </tr>\n",
       "    <tr>\n",
       "      <th>Product.ID</th>\n",
       "      <td>TEC-PH-5816</td>\n",
       "      <td>FUR-CH-5379</td>\n",
       "      <td>TEC-PH-5356</td>\n",
       "    </tr>\n",
       "    <tr>\n",
       "      <th>Category</th>\n",
       "      <td>Technology</td>\n",
       "      <td>Furniture</td>\n",
       "      <td>Technology</td>\n",
       "    </tr>\n",
       "    <tr>\n",
       "      <th>Sub.Category</th>\n",
       "      <td>Phones</td>\n",
       "      <td>Chairs</td>\n",
       "      <td>Phones</td>\n",
       "    </tr>\n",
       "    <tr>\n",
       "      <th>Product.Name</th>\n",
       "      <td>Samsung Convoy 3</td>\n",
       "      <td>Novimex Executive Leather Armchair, Black</td>\n",
       "      <td>Nokia Smart Phone, with Caller ID</td>\n",
       "    </tr>\n",
       "    <tr>\n",
       "      <th>Sales</th>\n",
       "      <td>$221.98</td>\n",
       "      <td>$3,709.40</td>\n",
       "      <td>$5,175.17</td>\n",
       "    </tr>\n",
       "    <tr>\n",
       "      <th>Quantity</th>\n",
       "      <td>2</td>\n",
       "      <td>9</td>\n",
       "      <td>9</td>\n",
       "    </tr>\n",
       "    <tr>\n",
       "      <th>Discount</th>\n",
       "      <td>0.0</td>\n",
       "      <td>0.1</td>\n",
       "      <td>0.1</td>\n",
       "    </tr>\n",
       "    <tr>\n",
       "      <th>Profit</th>\n",
       "      <td>$62.15</td>\n",
       "      <td>-$288.77</td>\n",
       "      <td>$919.97</td>\n",
       "    </tr>\n",
       "    <tr>\n",
       "      <th>Shipping.Cost</th>\n",
       "      <td>40.77</td>\n",
       "      <td>923.63</td>\n",
       "      <td>915.49</td>\n",
       "    </tr>\n",
       "    <tr>\n",
       "      <th>Order.Priority</th>\n",
       "      <td>High</td>\n",
       "      <td>Critical</td>\n",
       "      <td>Medium</td>\n",
       "    </tr>\n",
       "  </tbody>\n",
       "</table>\n",
       "</div>"
      ],
      "text/plain": [
       "                                       0  \\\n",
       "Row.ID                             40098   \n",
       "Order.ID        CA-2014-AB10015140-41954   \n",
       "Order.Date                      11/11/14   \n",
       "Ship.Date                       11/13/14   \n",
       "Ship.Mode                    First Class   \n",
       "Customer.ID                 AB-100151402   \n",
       "Customer.Name              Aaron Bergman   \n",
       "Segment                         Consumer   \n",
       "Postal.Code                      73120.0   \n",
       "City                       Oklahoma City   \n",
       "State                           Oklahoma   \n",
       "Country                    United States   \n",
       "Region                        Central US   \n",
       "Market                              USCA   \n",
       "Product.ID                   TEC-PH-5816   \n",
       "Category                      Technology   \n",
       "Sub.Category                      Phones   \n",
       "Product.Name            Samsung Convoy 3   \n",
       "Sales                            $221.98   \n",
       "Quantity                               2   \n",
       "Discount                             0.0   \n",
       "Profit                            $62.15   \n",
       "Shipping.Cost                      40.77   \n",
       "Order.Priority                      High   \n",
       "\n",
       "                                                        1  \\\n",
       "Row.ID                                              26341   \n",
       "Order.ID                           IN-2014-JR162107-41675   \n",
       "Order.Date                                         2/5/14   \n",
       "Ship.Date                                          2/7/14   \n",
       "Ship.Mode                                    Second Class   \n",
       "Customer.ID                                     JR-162107   \n",
       "Customer.Name                               Justin Ritter   \n",
       "Segment                                         Corporate   \n",
       "Postal.Code                                           NaN   \n",
       "City                                           Wollongong   \n",
       "State                                     New South Wales   \n",
       "Country                                         Australia   \n",
       "Region                                            Oceania   \n",
       "Market                                       Asia Pacific   \n",
       "Product.ID                                    FUR-CH-5379   \n",
       "Category                                        Furniture   \n",
       "Sub.Category                                       Chairs   \n",
       "Product.Name    Novimex Executive Leather Armchair, Black   \n",
       "Sales                                           $3,709.40   \n",
       "Quantity                                                9   \n",
       "Discount                                              0.1   \n",
       "Profit                                           -$288.77   \n",
       "Shipping.Cost                                      923.63   \n",
       "Order.Priority                                   Critical   \n",
       "\n",
       "                                                2  \n",
       "Row.ID                                      25330  \n",
       "Order.ID                   IN-2014-CR127307-41929  \n",
       "Order.Date                               10/17/14  \n",
       "Ship.Date                                10/18/14  \n",
       "Ship.Mode                             First Class  \n",
       "Customer.ID                             CR-127307  \n",
       "Customer.Name                        Craig Reiter  \n",
       "Segment                                  Consumer  \n",
       "Postal.Code                                   NaN  \n",
       "City                                     Brisbane  \n",
       "State                                  Queensland  \n",
       "Country                                 Australia  \n",
       "Region                                    Oceania  \n",
       "Market                               Asia Pacific  \n",
       "Product.ID                            TEC-PH-5356  \n",
       "Category                               Technology  \n",
       "Sub.Category                               Phones  \n",
       "Product.Name    Nokia Smart Phone, with Caller ID  \n",
       "Sales                                   $5,175.17  \n",
       "Quantity                                        9  \n",
       "Discount                                      0.1  \n",
       "Profit                                    $919.97  \n",
       "Shipping.Cost                              915.49  \n",
       "Order.Priority                             Medium  "
      ]
     },
     "execution_count": 4,
     "metadata": {},
     "output_type": "execute_result"
    }
   ],
   "source": [
    "# Checking Columns/Fearture Set\n",
    "\n",
    "orders_df.head(3).T"
   ]
  },
  {
   "cell_type": "code",
   "execution_count": 5,
   "id": "f269a5e8",
   "metadata": {},
   "outputs": [
    {
     "data": {
      "text/plain": [
       "Row.ID              int64\n",
       "Order.ID           object\n",
       "Order.Date         object\n",
       "Ship.Date          object\n",
       "Ship.Mode          object\n",
       "Customer.ID        object\n",
       "Customer.Name      object\n",
       "Segment            object\n",
       "Postal.Code       float64\n",
       "City               object\n",
       "State              object\n",
       "Country            object\n",
       "Region             object\n",
       "Market             object\n",
       "Product.ID         object\n",
       "Category           object\n",
       "Sub.Category       object\n",
       "Product.Name       object\n",
       "Sales              object\n",
       "Quantity            int64\n",
       "Discount          float64\n",
       "Profit             object\n",
       "Shipping.Cost     float64\n",
       "Order.Priority     object\n",
       "dtype: object"
      ]
     },
     "execution_count": 5,
     "metadata": {},
     "output_type": "execute_result"
    }
   ],
   "source": [
    "# Check the data types for the features\n",
    "\n",
    "orders_df.dtypes"
   ]
  },
  {
   "cell_type": "code",
   "execution_count": 6,
   "id": "f8330667",
   "metadata": {},
   "outputs": [
    {
     "name": "stdout",
     "output_type": "stream",
     "text": [
      "Returns Dataframe Shape: (1079, 3) \n",
      "Index(['Returned', 'Order ID', 'Region'], dtype='object')\n"
     ]
    },
    {
     "data": {
      "text/html": [
       "<div>\n",
       "<style scoped>\n",
       "    .dataframe tbody tr th:only-of-type {\n",
       "        vertical-align: middle;\n",
       "    }\n",
       "\n",
       "    .dataframe tbody tr th {\n",
       "        vertical-align: top;\n",
       "    }\n",
       "\n",
       "    .dataframe thead th {\n",
       "        text-align: right;\n",
       "    }\n",
       "</style>\n",
       "<table border=\"1\" class=\"dataframe\">\n",
       "  <thead>\n",
       "    <tr style=\"text-align: right;\">\n",
       "      <th></th>\n",
       "      <th>0</th>\n",
       "      <th>1</th>\n",
       "      <th>2</th>\n",
       "    </tr>\n",
       "  </thead>\n",
       "  <tbody>\n",
       "    <tr>\n",
       "      <th>Returned</th>\n",
       "      <td>Yes</td>\n",
       "      <td>Yes</td>\n",
       "      <td>Yes</td>\n",
       "    </tr>\n",
       "    <tr>\n",
       "      <th>Order ID</th>\n",
       "      <td>CA-2012-SA20830140-41210</td>\n",
       "      <td>IN-2012-PB19210127-41259</td>\n",
       "      <td>CA-2012-SC20095140-41174</td>\n",
       "    </tr>\n",
       "    <tr>\n",
       "      <th>Region</th>\n",
       "      <td>Central US</td>\n",
       "      <td>Eastern Asia</td>\n",
       "      <td>Central US</td>\n",
       "    </tr>\n",
       "  </tbody>\n",
       "</table>\n",
       "</div>"
      ],
      "text/plain": [
       "                                 0                         1  \\\n",
       "Returned                       Yes                       Yes   \n",
       "Order ID  CA-2012-SA20830140-41210  IN-2012-PB19210127-41259   \n",
       "Region                  Central US              Eastern Asia   \n",
       "\n",
       "                                 2  \n",
       "Returned                       Yes  \n",
       "Order ID  CA-2012-SC20095140-41174  \n",
       "Region                  Central US  "
      ]
     },
     "execution_count": 6,
     "metadata": {},
     "output_type": "execute_result"
    }
   ],
   "source": [
    "print(\"Returns Dataframe Shape: {} \".format(returns_df.shape))\n",
    "print(returns_df.columns)\n",
    "returns_df.head(3).T"
   ]
  },
  {
   "cell_type": "code",
   "execution_count": 7,
   "id": "c88925e4",
   "metadata": {},
   "outputs": [
    {
     "name": "stdout",
     "output_type": "stream",
     "text": [
      "Yes    1079\n",
      "Name: Returned, dtype: int64\n",
      "CA-2012-SA20830140-41210    1\n",
      "ES-2012-MP1817564-41187     1\n",
      "CA-2015-JF15415140-42367    1\n",
      "IT-2012-RD19930120-41222    1\n",
      "IR-2014-BD162060-41820      1\n",
      "                           ..\n",
      "ZA-2015-SW10350146-42061    1\n",
      "IN-2015-PR1888027-42125     1\n",
      "ES-2014-DB1327045-41689     1\n",
      "ES-2012-PM1894045-41145     1\n",
      "EG-2014-PM894038-41846      1\n",
      "Name: Order ID, Length: 1079, dtype: int64\n",
      "Western Europe       121\n",
      "Central America      117\n",
      "Oceania               78\n",
      "Western US            72\n",
      "Eastern US            69\n",
      "Southeastern Asia     64\n",
      "South America         61\n",
      "Southern Asia         58\n",
      "Southern Europe       55\n",
      "Eastern Asia          53\n",
      "Western Asia          50\n",
      "Southern US           44\n",
      "Northern Europe       43\n",
      "Central US            42\n",
      "Caribbean             31\n",
      "Western Africa        29\n",
      "North Africa          26\n",
      "Eastern Europe        24\n",
      "Southern Africa       11\n",
      "Eastern Africa        11\n",
      "Central Africa        10\n",
      "Eastern Canada         5\n",
      "Central Asia           4\n",
      "Western Canada         1\n",
      "Name: Region, dtype: int64\n"
     ]
    }
   ],
   "source": [
    "for col in returns_df.columns:\n",
    "    print(returns_df[col].value_counts())"
   ]
  },
  {
   "cell_type": "markdown",
   "id": "f9b8a437",
   "metadata": {},
   "source": [
    "> There are `1079` returns. The `Returned` column contains all \"Yes\"."
   ]
  },
  {
   "cell_type": "markdown",
   "id": "dc0725de",
   "metadata": {},
   "source": [
    "## Dimension of the datasets"
   ]
  },
  {
   "cell_type": "code",
   "execution_count": 8,
   "id": "c41ae681",
   "metadata": {},
   "outputs": [
    {
     "name": "stdout",
     "output_type": "stream",
     "text": [
      "The rows of Orders: 51290 \n",
      "The columns of Orders: 24 \n",
      "The rows of Returns: 1079 \n",
      "The columns of Returns: 3\n"
     ]
    }
   ],
   "source": [
    "print(\"The rows of Orders: %d \" % orders_df.shape[0])\n",
    "print(\"The columns of Orders: %d \" % orders_df.shape[1])\n",
    "print(\"The rows of Returns: %d \" % returns_df.shape[0])\n",
    "print(\"The columns of Returns: %d\" % returns_df.shape[1])"
   ]
  },
  {
   "cell_type": "code",
   "execution_count": 9,
   "id": "74d9ecb0",
   "metadata": {},
   "outputs": [
    {
     "name": "stdout",
     "output_type": "stream",
     "text": [
      "40098    1\n",
      "27104    1\n",
      "32669    1\n",
      "10593    1\n",
      "48308    1\n",
      "        ..\n",
      "25669    1\n",
      "17928    1\n",
      "45637    1\n",
      "30589    1\n",
      "6147     1\n",
      "Name: Row.ID, Length: 51290, dtype: int64\n",
      "CA-2015-SV20365140-42268    14\n",
      "TO-2015-AB600131-42299      13\n",
      "MX-2015-PO1885082-42279     13\n",
      "NI-2015-TC1098095-42033     13\n",
      "IN-2013-TB21055113-41562    13\n",
      "                            ..\n",
      "ES-2012-HG1502548-40992      1\n",
      "ES-2015-JS1559548-42066      1\n",
      "ES-2012-ME1732045-41076      1\n",
      "CA-2015-EA14035140-42217     1\n",
      "MX-2013-MC1810093-41416      1\n",
      "Name: Order.ID, Length: 25728, dtype: int64\n",
      "6/18/15     135\n",
      "11/18/15    127\n",
      "9/3/15      126\n",
      "11/20/15    118\n",
      "12/29/15    116\n",
      "           ... \n",
      "3/17/14       1\n",
      "4/23/12       1\n",
      "9/23/13       1\n",
      "2/9/15        1\n",
      "2/6/12        1\n",
      "Name: Order.Date, Length: 1430, dtype: int64\n",
      "11/22/15    130\n",
      "9/7/15      115\n",
      "11/17/15    101\n",
      "12/7/15     101\n",
      "11/29/15    100\n",
      "           ... \n",
      "4/13/12       3\n",
      "3/21/14       3\n",
      "1/5/12        2\n",
      "1/6/12        2\n",
      "1/3/12        2\n",
      "Name: Ship.Date, Length: 1464, dtype: int64\n",
      "Standard Class    30775\n",
      "Second Class      10309\n",
      "First Class        7505\n",
      "Same Day           2701\n",
      "Name: Ship.Mode, dtype: int64\n",
      "SV-203651406    26\n",
      "WB-218501404    24\n",
      "AP-109151404    23\n",
      "EM-1396082      21\n",
      "CS-121757       20\n",
      "                ..\n",
      "LW-7215110       1\n",
      "XP-2186531       1\n",
      "FP-14320139      1\n",
      "JK-16090101      1\n",
      "MC-1810093       1\n",
      "Name: Customer.ID, Length: 17415, dtype: int64\n",
      "Muhammed Yedwab    108\n",
      "Steven Ward        106\n",
      "Bill Eplett        102\n",
      "Gary Hwang         102\n",
      "Patrick O'Brill    102\n",
      "                  ... \n",
      "David Bremer        34\n",
      "Nicole Brennan      31\n",
      "Darren Budd         31\n",
      "Michael Oakman      29\n",
      "Kai Rey              7\n",
      "Name: Customer.Name, Length: 796, dtype: int64\n",
      "Consumer       26518\n",
      "Corporate      15429\n",
      "Home Office     9343\n",
      "Name: Segment, dtype: int64\n",
      "10035.0    263\n",
      "10024.0    230\n",
      "10009.0    229\n",
      "94122.0    203\n",
      "10011.0    193\n",
      "          ... \n",
      "50701.0      1\n",
      "29464.0      1\n",
      "65109.0      1\n",
      "6810.0       1\n",
      "60462.0      1\n",
      "Name: Postal.Code, Length: 631, dtype: int64\n",
      "New York City     915\n",
      "Los Angeles       747\n",
      "Philadelphia      537\n",
      "San Francisco     510\n",
      "Santo Domingo     443\n",
      "                 ... \n",
      "Caraguatatuba       1\n",
      "Arad                1\n",
      "Tatuí               1\n",
      "Maidstone           1\n",
      "Victoria Falls      1\n",
      "Name: City, Length: 3650, dtype: int64\n",
      "California            2001\n",
      "England               1499\n",
      "New York              1128\n",
      "Texas                  985\n",
      "Ile-de-France          981\n",
      "                      ... \n",
      "Ibb                      1\n",
      "Galway                   1\n",
      "Olomouc                  1\n",
      "Meta                     1\n",
      "Matabeleland North       1\n",
      "Name: State, Length: 1102, dtype: int64\n",
      "United States    9994\n",
      "Australia        2837\n",
      "France           2827\n",
      "Mexico           2635\n",
      "Germany          2063\n",
      "                 ... \n",
      "Bhutan              1\n",
      "Malawi              1\n",
      "Kuwait              1\n",
      "Suriname            1\n",
      "The Gambia          1\n",
      "Name: Country, Length: 165, dtype: int64\n",
      "Western Europe       5883\n",
      "Central America      5616\n",
      "Oceania              3487\n",
      "Western US           3203\n",
      "Southeastern Asia    3129\n",
      "South America        2988\n",
      "Eastern US           2848\n",
      "Southern Asia        2655\n",
      "Western Asia         2440\n",
      "Eastern Asia         2374\n",
      "Central US           2323\n",
      "Northern Europe      2204\n",
      "Southern Europe      2113\n",
      "Caribbean            1690\n",
      "Southern US          1620\n",
      "Eastern Europe       1529\n",
      "Western Africa       1460\n",
      "North Africa         1278\n",
      "Eastern Africa        728\n",
      "Central Africa        643\n",
      "Southern Africa       478\n",
      "Canada                384\n",
      "Central Asia          217\n",
      "Name: Region, dtype: int64\n",
      "Asia Pacific    14302\n",
      "Europe          11729\n",
      "USCA            10378\n",
      "LATAM           10294\n",
      "Africa           4587\n",
      "Name: Market, dtype: int64\n",
      "OFF-FA-6129    227\n",
      "OFF-BI-3737     92\n",
      "OFF-ST-4057     90\n",
      "OFF-ST-5693     84\n",
      "OFF-BI-4828     83\n",
      "              ... \n",
      "TEC-MA-5084      1\n",
      "TEC-AC-5281      1\n",
      "OFF-AR-2873      1\n",
      "OFF-PA-6492      1\n",
      "TEC-PH-3808      1\n",
      "Name: Product.ID, Length: 3788, dtype: int64\n",
      "Office Supplies    31289\n",
      "Technology         10141\n",
      "Furniture           9860\n",
      "Name: Category, dtype: int64\n",
      "Binders        6146\n",
      "Storage        5049\n",
      "Art            4864\n",
      "Paper          3492\n",
      "Chairs         3434\n",
      "Phones         3357\n",
      "Furnishings    3154\n",
      "Accessories    3075\n",
      "Labels         2601\n",
      "Fasteners      2601\n",
      "Bookcases      2411\n",
      "Supplies       2407\n",
      "Envelopes      2387\n",
      "Copiers        2223\n",
      "Appliances     1742\n",
      "Machines       1486\n",
      "Tables          861\n",
      "Name: Sub.Category, dtype: int64\n",
      "Staples                                                 227\n",
      "Cardinal Index Tab, Clear                                92\n",
      "Eldon File Cart, Single Width                            90\n",
      "Rogers File Cart, Single Width                           84\n",
      "Ibico Index Tab, Clear                                   83\n",
      "                                                       ... \n",
      "Lexmark X 9575 Professional All-in-One Color Printer      1\n",
      "NETGEAR RangeMax WNR1000 Wireless Router                  1\n",
      "4009 Highlighters                                         1\n",
      "Xerox 1938                                                1\n",
      "Cisco SPA 501G IP Phone                                   1\n",
      "Name: Product.Name, Length: 3788, dtype: int64\n",
      "$12.96       67\n",
      "$25.92       50\n",
      "$19.44       43\n",
      "$32.40       42\n",
      "$15.55       41\n",
      "             ..\n",
      "$6,517.08     1\n",
      "$705.40       1\n",
      "$132.77       1\n",
      "$390.90       1\n",
      "$259.96       1\n",
      "Name: Sales, Length: 20049, dtype: int64\n",
      "2     12748\n",
      "3      9682\n",
      "1      8963\n",
      "4      6385\n",
      "5      4882\n",
      "6      3020\n",
      "7      2385\n",
      "8      1361\n",
      "9       987\n",
      "10      276\n",
      "14      186\n",
      "12      176\n",
      "11      156\n",
      "13       83\n",
      "Name: Quantity, dtype: int64\n",
      "0.000    29009\n",
      "0.200     4998\n",
      "0.100     4068\n",
      "0.400     3177\n",
      "0.600     2006\n",
      "0.700     1786\n",
      "0.500     1633\n",
      "0.170      735\n",
      "0.470      725\n",
      "0.150      541\n",
      "0.002      461\n",
      "0.270      388\n",
      "0.300      340\n",
      "0.450      327\n",
      "0.800      316\n",
      "0.250      198\n",
      "0.070      150\n",
      "0.350      122\n",
      "0.402      104\n",
      "0.370       74\n",
      "0.202       41\n",
      "0.320       27\n",
      "0.602       23\n",
      "0.650       17\n",
      "0.570       12\n",
      "0.550       10\n",
      "0.850        2\n",
      "Name: Discount, dtype: int64\n",
      "$0.00       668\n",
      "$4.32        73\n",
      "$3.96        72\n",
      "$7.92        72\n",
      "$2.88        71\n",
      "           ... \n",
      "$53.09        1\n",
      "$160.83       1\n",
      "$31.78        1\n",
      "-$137.32      1\n",
      "-$49.57       1\n",
      "Name: Profit, Length: 16579, dtype: int64\n",
      "1.360     114\n",
      "1.350     113\n",
      "1.790     110\n",
      "1.970     108\n",
      "1.800     106\n",
      "         ... \n",
      "48.004      1\n",
      "47.997      1\n",
      "47.990      1\n",
      "47.980      1\n",
      "1.002       1\n",
      "Name: Shipping.Cost, Length: 16452, dtype: int64\n",
      "Medium      29433\n",
      "High        15501\n",
      "Critical     3932\n",
      "Low          2424\n",
      "Name: Order.Priority, dtype: int64\n"
     ]
    }
   ],
   "source": [
    "# Check out the categories for the features\n",
    "for col in orders_df.columns:\n",
    "    print(orders_df[col].value_counts())"
   ]
  },
  {
   "cell_type": "markdown",
   "id": "a01ae1f8",
   "metadata": {},
   "source": [
    "# Feature univariate overview \n",
    ">\n",
    "- 25728 Order IDs\n",
    "- 4 Shipping Modes - Standars, Second, First, Same Day\n",
    "- 17415 Customers\n",
    "- 796 Customer Names\n",
    "- 3 Segments - Consumer, Corporate, Home Officej\n",
    "- 3650 - Cities\n",
    "- 1102 - States\n",
    "- 165 - Countries-\n",
    "- 24 Regions- \n",
    "- 5 Markets -  Asia Pacific, Europe, USCA, LATAM, Africa\n",
    "- 3 Categories - Office Supplies, Technology, Furniture\n",
    "- Several subcategories\n",
    "- 3788 Different product names\n",
    "- 1-14 Quantities of products \n",
    "- 0-85% Discounts\n",
    "- Positive and Negativ Profits\n",
    "- 3 Order Priority - Low, Medium, High, Critial"
   ]
  },
  {
   "cell_type": "code",
   "execution_count": null,
   "id": "5feb5e43",
   "metadata": {},
   "outputs": [],
   "source": []
  },
  {
   "cell_type": "markdown",
   "id": "41315301",
   "metadata": {},
   "source": [
    "## Missing values "
   ]
  },
  {
   "cell_type": "code",
   "execution_count": 10,
   "id": "6a62d271",
   "metadata": {},
   "outputs": [
    {
     "name": "stdout",
     "output_type": "stream",
     "text": [
      "Missing values\n",
      "Orders DataFrame: \n",
      "Row.ID                0\n",
      "Order.ID              0\n",
      "Order.Date            0\n",
      "Ship.Date             0\n",
      "Ship.Mode             0\n",
      "Customer.ID           0\n",
      "Customer.Name         0\n",
      "Segment               0\n",
      "Postal.Code       41296\n",
      "City                  0\n",
      "State                 0\n",
      "Country               0\n",
      "Region                0\n",
      "Market                0\n",
      "Product.ID            0\n",
      "Category              0\n",
      "Sub.Category          0\n",
      "Product.Name          0\n",
      "Sales                 0\n",
      "Quantity              0\n",
      "Discount              0\n",
      "Profit                0\n",
      "Shipping.Cost         0\n",
      "Order.Priority        0\n",
      "dtype: int64\n"
     ]
    }
   ],
   "source": [
    "# Checking the missing values in the datasets\n",
    "\n",
    "print(\"Missing values\")\n",
    "print(\"Orders DataFrame: \")\n",
    "print(orders_df.isna().sum(axis=0))"
   ]
  },
  {
   "cell_type": "code",
   "execution_count": 11,
   "id": "0cd50074",
   "metadata": {},
   "outputs": [
    {
     "name": "stdout",
     "output_type": "stream",
     "text": [
      "Returned    0\n",
      "Order ID    0\n",
      "Region      0\n",
      "dtype: int64\n"
     ]
    }
   ],
   "source": [
    "# Checking the missing values in Returns\n",
    "print(returns_df.isna().sum(axis=0))"
   ]
  },
  {
   "cell_type": "markdown",
   "id": "c0d50e4f",
   "metadata": {},
   "source": [
    "### Problem 1: Dataset Import & Cleaning\n",
    "Check **\"Profit\"** and **\"Sales\"** in the dataset, convert these two columns to numeric type. \n",
    "\n"
   ]
  },
  {
   "cell_type": "code",
   "execution_count": 12,
   "id": "e9041e21",
   "metadata": {},
   "outputs": [
    {
     "data": {
      "text/html": [
       "<div>\n",
       "<style scoped>\n",
       "    .dataframe tbody tr th:only-of-type {\n",
       "        vertical-align: middle;\n",
       "    }\n",
       "\n",
       "    .dataframe tbody tr th {\n",
       "        vertical-align: top;\n",
       "    }\n",
       "\n",
       "    .dataframe thead th {\n",
       "        text-align: right;\n",
       "    }\n",
       "</style>\n",
       "<table border=\"1\" class=\"dataframe\">\n",
       "  <thead>\n",
       "    <tr style=\"text-align: right;\">\n",
       "      <th></th>\n",
       "      <th>Profit</th>\n",
       "      <th>Sales</th>\n",
       "    </tr>\n",
       "  </thead>\n",
       "  <tbody>\n",
       "    <tr>\n",
       "      <th>0</th>\n",
       "      <td>$62.15</td>\n",
       "      <td>$221.98</td>\n",
       "    </tr>\n",
       "    <tr>\n",
       "      <th>1</th>\n",
       "      <td>-$288.77</td>\n",
       "      <td>$3,709.40</td>\n",
       "    </tr>\n",
       "    <tr>\n",
       "      <th>2</th>\n",
       "      <td>$919.97</td>\n",
       "      <td>$5,175.17</td>\n",
       "    </tr>\n",
       "    <tr>\n",
       "      <th>3</th>\n",
       "      <td>-$96.54</td>\n",
       "      <td>$2,892.51</td>\n",
       "    </tr>\n",
       "    <tr>\n",
       "      <th>4</th>\n",
       "      <td>$311.52</td>\n",
       "      <td>$2,832.96</td>\n",
       "    </tr>\n",
       "  </tbody>\n",
       "</table>\n",
       "</div>"
      ],
      "text/plain": [
       "     Profit      Sales\n",
       "0    $62.15    $221.98\n",
       "1  -$288.77  $3,709.40\n",
       "2   $919.97  $5,175.17\n",
       "3   -$96.54  $2,892.51\n",
       "4   $311.52  $2,832.96"
      ]
     },
     "execution_count": 12,
     "metadata": {},
     "output_type": "execute_result"
    }
   ],
   "source": [
    "# Orders columns have $ sign and negativ values some places \n",
    "orders_df[[\"Profit\",\"Sales\"]][:5]"
   ]
  },
  {
   "cell_type": "code",
   "execution_count": 13,
   "id": "2bb1414f",
   "metadata": {},
   "outputs": [
    {
     "data": {
      "text/plain": [
       "0         62.15\n",
       "1       -288.77\n",
       "2        919.97\n",
       "3        -96.54\n",
       "4        311.52\n",
       "          ...  \n",
       "51285      4.50\n",
       "51286      3.34\n",
       "51287      2.48\n",
       "51288      2.40\n",
       "51289      1.80\n",
       "Name: Profit, Length: 51290, dtype: float64"
      ]
     },
     "execution_count": 13,
     "metadata": {},
     "output_type": "execute_result"
    }
   ],
   "source": [
    "orders_df[\"Profit\"].map(lambda x : float(str(x).strip().replace(\"$\",\"\").replace(\",\",\"\")))"
   ]
  },
  {
   "cell_type": "code",
   "execution_count": 14,
   "id": "490c6946",
   "metadata": {},
   "outputs": [
    {
     "data": {
      "text/plain": [
       "0         221.98\n",
       "1        3709.40\n",
       "2        5175.17\n",
       "3        2892.51\n",
       "4        2832.96\n",
       "          ...   \n",
       "51285      65.10\n",
       "51286      16.72\n",
       "51287       8.56\n",
       "51288      13.44\n",
       "51289      61.38\n",
       "Name: Sales, Length: 51290, dtype: float64"
      ]
     },
     "execution_count": 14,
     "metadata": {},
     "output_type": "execute_result"
    }
   ],
   "source": [
    "orders_df[\"Sales\"].map(lambda s: float(str(s).strip().replace(\"$\",\"\").replace(\",\",\"\")))"
   ]
  },
  {
   "cell_type": "code",
   "execution_count": 15,
   "id": "1004ef06",
   "metadata": {},
   "outputs": [
    {
     "data": {
      "text/html": [
       "<div>\n",
       "<style scoped>\n",
       "    .dataframe tbody tr th:only-of-type {\n",
       "        vertical-align: middle;\n",
       "    }\n",
       "\n",
       "    .dataframe tbody tr th {\n",
       "        vertical-align: top;\n",
       "    }\n",
       "\n",
       "    .dataframe thead th {\n",
       "        text-align: right;\n",
       "    }\n",
       "</style>\n",
       "<table border=\"1\" class=\"dataframe\">\n",
       "  <thead>\n",
       "    <tr style=\"text-align: right;\">\n",
       "      <th></th>\n",
       "      <th>Profit</th>\n",
       "      <th>Sales</th>\n",
       "    </tr>\n",
       "  </thead>\n",
       "  <tbody>\n",
       "    <tr>\n",
       "      <th>0</th>\n",
       "      <td>62.15</td>\n",
       "      <td>221.98</td>\n",
       "    </tr>\n",
       "    <tr>\n",
       "      <th>1</th>\n",
       "      <td>-288.77</td>\n",
       "      <td>3709.40</td>\n",
       "    </tr>\n",
       "    <tr>\n",
       "      <th>2</th>\n",
       "      <td>919.97</td>\n",
       "      <td>5175.17</td>\n",
       "    </tr>\n",
       "    <tr>\n",
       "      <th>3</th>\n",
       "      <td>-96.54</td>\n",
       "      <td>2892.51</td>\n",
       "    </tr>\n",
       "    <tr>\n",
       "      <th>4</th>\n",
       "      <td>311.52</td>\n",
       "      <td>2832.96</td>\n",
       "    </tr>\n",
       "  </tbody>\n",
       "</table>\n",
       "</div>"
      ],
      "text/plain": [
       "   Profit    Sales\n",
       "0   62.15   221.98\n",
       "1 -288.77  3709.40\n",
       "2  919.97  5175.17\n",
       "3  -96.54  2892.51\n",
       "4  311.52  2832.96"
      ]
     },
     "execution_count": 15,
     "metadata": {},
     "output_type": "execute_result"
    }
   ],
   "source": [
    "orders_df[\"Sales\"] =orders_df[\"Sales\"].map(lambda s: float(str(s).strip().replace(\"$\",\"\").replace(\",\",\"\")))\n",
    "orders_df[\"Profit\"]=orders_df[\"Profit\"].map(lambda x : float(str(x).strip().replace(\"$\",\"\").replace(\",\",\"\")))\n",
    "orders_df[[\"Profit\",\"Sales\"]][:5]"
   ]
  },
  {
   "cell_type": "markdown",
   "id": "44572ba9",
   "metadata": {},
   "source": [
    "### Problem 2: Inventory Management\n",
    "- Retailers that depend on seasonal shoppers have a particularly challenging job when it comes to inventory management. Your manager is making plans for next year's inventory.\n",
    "- He wants you to answer the following questions:\n",
    "    1. Is there any seasonal trend of inventory in the company?\n",
    "    2. Is the seasonal trend the same for different categories?\n",
    "\n",
    "- ***Hint:*** For each order, it has an attribute called `Quantity` that indicates the number of product in the order. If an order contains more than one product, there will be multiple observations of the same order."
   ]
  },
  {
   "cell_type": "markdown",
   "id": "be0b1def",
   "metadata": {},
   "source": [
    "### 1. Seasonal Trend of inventory in the company\n",
    "Here we need to look at the dates for the orders"
   ]
  },
  {
   "cell_type": "code",
   "execution_count": 16,
   "id": "4fc9c99a",
   "metadata": {},
   "outputs": [
    {
     "data": {
      "text/plain": [
       "Index(['Row.ID', 'Order.ID', 'Order.Date', 'Ship.Date', 'Ship.Mode',\n",
       "       'Customer.ID', 'Customer.Name', 'Segment', 'Postal.Code', 'City',\n",
       "       'State', 'Country', 'Region', 'Market', 'Product.ID', 'Category',\n",
       "       'Sub.Category', 'Product.Name', 'Sales', 'Quantity', 'Discount',\n",
       "       'Profit', 'Shipping.Cost', 'Order.Priority'],\n",
       "      dtype='object')"
      ]
     },
     "execution_count": 16,
     "metadata": {},
     "output_type": "execute_result"
    }
   ],
   "source": [
    "orders_df.columns"
   ]
  },
  {
   "cell_type": "code",
   "execution_count": 17,
   "id": "b334ff0f",
   "metadata": {},
   "outputs": [
    {
     "data": {
      "text/plain": [
       "0    11/11/14\n",
       "1      2/5/14\n",
       "2    10/17/14\n",
       "3     1/28/14\n",
       "4     11/5/14\n",
       "Name: Order.Date, dtype: object"
      ]
     },
     "execution_count": 17,
     "metadata": {},
     "output_type": "execute_result"
    }
   ],
   "source": [
    "orders_df[\"Order.Date\"].head()"
   ]
  },
  {
   "cell_type": "markdown",
   "id": "79928d0b",
   "metadata": {},
   "source": [
    "The orders Order date is object time so it has to be converted to datetime. "
   ]
  },
  {
   "cell_type": "code",
   "execution_count": 18,
   "id": "23ddf2c2",
   "metadata": {},
   "outputs": [
    {
     "data": {
      "text/plain": [
       "0   2014-11-11\n",
       "1   2014-02-05\n",
       "2   2014-10-17\n",
       "3   2014-01-28\n",
       "4   2014-11-05\n",
       "Name: Order.Date, dtype: datetime64[ns]"
      ]
     },
     "execution_count": 18,
     "metadata": {},
     "output_type": "execute_result"
    }
   ],
   "source": [
    "pd.to_datetime(orders_df['Order.Date'], format=\"%m/%d/%y\")[:5]"
   ]
  },
  {
   "cell_type": "code",
   "execution_count": 19,
   "id": "b8b36a37",
   "metadata": {},
   "outputs": [],
   "source": [
    "orders_df['Order.Date'] = pd.to_datetime(orders_df['Order.Date'], format=\"%m/%d/%y\")"
   ]
  },
  {
   "cell_type": "markdown",
   "id": "347f12d2",
   "metadata": {},
   "source": [
    "> The Datetime Object has some nice features"
   ]
  },
  {
   "cell_type": "code",
   "execution_count": 20,
   "id": "3f28829d",
   "metadata": {},
   "outputs": [
    {
     "data": {
      "text/plain": [
       "Timestamp('2014-11-11 00:00:00')"
      ]
     },
     "execution_count": 20,
     "metadata": {},
     "output_type": "execute_result"
    }
   ],
   "source": [
    "orders_df['Order.Date'][0]"
   ]
  },
  {
   "cell_type": "code",
   "execution_count": 21,
   "id": "576b9031",
   "metadata": {},
   "outputs": [
    {
     "name": "stdout",
     "output_type": "stream",
     "text": [
      "2014  - The Year\n",
      "11  - The Month\n",
      "46  - The Week\n",
      "315  - The Day\n"
     ]
    }
   ],
   "source": [
    "print(orders_df['Order.Date'][0].year,\" - The Year\")\n",
    "print(orders_df['Order.Date'][0].month,\" - The Month\")\n",
    "print(orders_df['Order.Date'][0].week,\" - The Week\")\n",
    "print(orders_df['Order.Date'][0].dayofyear,\" - The Day\")"
   ]
  },
  {
   "cell_type": "code",
   "execution_count": 22,
   "id": "d1037f89",
   "metadata": {},
   "outputs": [
    {
     "data": {
      "text/html": [
       "<div>\n",
       "<style scoped>\n",
       "    .dataframe tbody tr th:only-of-type {\n",
       "        vertical-align: middle;\n",
       "    }\n",
       "\n",
       "    .dataframe tbody tr th {\n",
       "        vertical-align: top;\n",
       "    }\n",
       "\n",
       "    .dataframe thead th {\n",
       "        text-align: right;\n",
       "    }\n",
       "</style>\n",
       "<table border=\"1\" class=\"dataframe\">\n",
       "  <thead>\n",
       "    <tr style=\"text-align: right;\">\n",
       "      <th></th>\n",
       "      <th>Order.Date</th>\n",
       "      <th>Order.Year</th>\n",
       "      <th>Order.Month</th>\n",
       "      <th>Order.Week</th>\n",
       "      <th>Order.Day</th>\n",
       "    </tr>\n",
       "  </thead>\n",
       "  <tbody>\n",
       "    <tr>\n",
       "      <th>0</th>\n",
       "      <td>2014-11-11</td>\n",
       "      <td>2014</td>\n",
       "      <td>11</td>\n",
       "      <td>46</td>\n",
       "      <td>315</td>\n",
       "    </tr>\n",
       "    <tr>\n",
       "      <th>1</th>\n",
       "      <td>2014-02-05</td>\n",
       "      <td>2014</td>\n",
       "      <td>2</td>\n",
       "      <td>6</td>\n",
       "      <td>36</td>\n",
       "    </tr>\n",
       "    <tr>\n",
       "      <th>2</th>\n",
       "      <td>2014-10-17</td>\n",
       "      <td>2014</td>\n",
       "      <td>10</td>\n",
       "      <td>42</td>\n",
       "      <td>290</td>\n",
       "    </tr>\n",
       "    <tr>\n",
       "      <th>3</th>\n",
       "      <td>2014-01-28</td>\n",
       "      <td>2014</td>\n",
       "      <td>1</td>\n",
       "      <td>5</td>\n",
       "      <td>28</td>\n",
       "    </tr>\n",
       "  </tbody>\n",
       "</table>\n",
       "</div>"
      ],
      "text/plain": [
       "  Order.Date  Order.Year  Order.Month  Order.Week  Order.Day\n",
       "0 2014-11-11        2014           11          46        315\n",
       "1 2014-02-05        2014            2           6         36\n",
       "2 2014-10-17        2014           10          42        290\n",
       "3 2014-01-28        2014            1           5         28"
      ]
     },
     "execution_count": 22,
     "metadata": {},
     "output_type": "execute_result"
    }
   ],
   "source": [
    "orders_df[\"Order.Year\"]  = orders_df['Order.Date'].map(lambda x:x.year)\n",
    "orders_df[\"Order.Month\"] = orders_df['Order.Date'].map(lambda x:x.month)\n",
    "orders_df[\"Order.Week\"] = orders_df['Order.Date'].map(lambda x:x.week)\n",
    "orders_df[\"Order.Day\"]   = orders_df['Order.Date'].map(lambda x:x.dayofyear)\n",
    "orders_df[[\"Order.Date\",\"Order.Year\",\"Order.Month\",\"Order.Week\",\"Order.Day\"]][:4]"
   ]
  },
  {
   "cell_type": "code",
   "execution_count": 23,
   "id": "070a6bd7",
   "metadata": {},
   "outputs": [
    {
     "name": "stdout",
     "output_type": "stream",
     "text": [
      "Order.Year  2012   2013   2014   2015   mean\n",
      "Order.Day                                   \n",
      "1           19.0  120.0   86.0   77.0  75.50\n",
      "2            1.0   68.0  106.0  118.0  73.25 \n",
      "\n"
     ]
    },
    {
     "data": {
      "image/png": "[encoded data removed]",
      "text/plain": [
       "<Figure size 432x288 with 1 Axes>"
      ]
     },
     "metadata": {
      "needs_background": "light"
     },
     "output_type": "display_data"
    },
    {
     "data": {
      "image/png": "[encoded data removed]",
      "text/plain": [
       "<Figure size 432x288 with 1 Axes>"
      ]
     },
     "metadata": {
      "needs_background": "light"
     },
     "output_type": "display_data"
    }
   ],
   "source": [
    "import matplotlib.pyplot as plt\n",
    "day_df = orders_df.groupby(['Order.Day', 'Order.Year'])['Quantity'].sum().unstack('Order.Year')\n",
    "years = day_df.columns\n",
    "day_df[\"mean\"] = day_df.mean(axis=1)\n",
    "print(day_df.head(2), \"\\n\")\n",
    "day_df.plot(y=years, title=\"Number of Products Ordered by Day\")\n",
    "day_df.plot(y=\"mean\", color='k', title=\"(Average) Number of Products Ordered by Day\")\n",
    "plt.show()"
   ]
  },
  {
   "cell_type": "code",
   "execution_count": null,
   "id": "e68e2d82",
   "metadata": {},
   "outputs": [],
   "source": []
  },
  {
   "cell_type": "code",
   "execution_count": 24,
   "id": "4fc58e5f",
   "metadata": {},
   "outputs": [
    {
     "name": "stdout",
     "output_type": "stream",
     "text": [
      "Order.Year   2012   2013   2014   2015   mean\n",
      "Order.Week                                   \n",
      "1           262.0  672.0  859.0  427.0  555.0\n",
      "2           410.0  464.0  553.0  571.0  499.5 \n",
      "\n"
     ]
    },
    {
     "data": {
      "image/png": "[encoded data removed]",
      "text/plain": [
       "<Figure size 432x288 with 1 Axes>"
      ]
     },
     "metadata": {
      "needs_background": "light"
     },
     "output_type": "display_data"
    },
    {
     "data": {
      "image/png": "[encoded data removed]",
      "text/plain": [
       "<Figure size 432x288 with 1 Axes>"
      ]
     },
     "metadata": {
      "needs_background": "light"
     },
     "output_type": "display_data"
    }
   ],
   "source": [
    "week_df = orders_df.groupby(['Order.Week', 'Order.Year'])['Quantity'].sum().unstack('Order.Year')\n",
    "years = week_df.columns\n",
    "week_df[\"mean\"] = week_df.mean(axis=1)\n",
    "print(week_df.head(2), \"\\n\")\n",
    "week_df.plot(y=years, title=\"Number of Products Ordered by Week\")\n",
    "week_df.plot(y=\"mean\", color='k', title=\"(Average) Number of Products Ordered by Week\")\n",
    "plt.show()"
   ]
  },
  {
   "cell_type": "code",
   "execution_count": null,
   "id": "52e356e1",
   "metadata": {},
   "outputs": [],
   "source": []
  },
  {
   "cell_type": "code",
   "execution_count": 25,
   "id": "1831ed27",
   "metadata": {},
   "outputs": [
    {
     "name": "stdout",
     "output_type": "stream",
     "text": [
      "Order.Year   2012  2013  2014  2015     mean\n",
      "Order.Month                                 \n",
      "1            1463  1874  2413  3122  2218.00\n",
      "2            1401  1444  2102  2482  1857.25 \n",
      "\n"
     ]
    },
    {
     "data": {
      "image/png": "[encoded data removed]",
      "text/plain": [
       "<Figure size 432x288 with 1 Axes>"
      ]
     },
     "metadata": {
      "needs_background": "light"
     },
     "output_type": "display_data"
    },
    {
     "data": {
      "image/png": "[encoded data removed]",
      "text/plain": [
       "<Figure size 432x288 with 1 Axes>"
      ]
     },
     "metadata": {
      "needs_background": "light"
     },
     "output_type": "display_data"
    }
   ],
   "source": [
    "month_df = orders_df.groupby(['Order.Month', 'Order.Year'])['Quantity'].sum().unstack('Order.Year')\n",
    "years = month_df.columns\n",
    "month_df[\"mean\"] = month_df.mean(axis=1)\n",
    "print(month_df.head(2), \"\\n\")\n",
    "month_df.plot(y=years, title=\"Number of Products Ordered by Month\")\n",
    "month_df.plot(y=\"mean\", color='k', title=\"(Average) Number of Products Ordered by Month\")\n",
    "plt.show()"
   ]
  },
  {
   "cell_type": "markdown",
   "id": "bde1a524",
   "metadata": {},
   "source": [
    "## 2. Seasonal trend for different categories"
   ]
  },
  {
   "cell_type": "code",
   "execution_count": 26,
   "id": "88812712",
   "metadata": {},
   "outputs": [
    {
     "data": {
      "text/html": [
       "<div>\n",
       "<style scoped>\n",
       "    .dataframe tbody tr th:only-of-type {\n",
       "        vertical-align: middle;\n",
       "    }\n",
       "\n",
       "    .dataframe tbody tr th {\n",
       "        vertical-align: top;\n",
       "    }\n",
       "\n",
       "    .dataframe thead th {\n",
       "        text-align: right;\n",
       "    }\n",
       "</style>\n",
       "<table border=\"1\" class=\"dataframe\">\n",
       "  <thead>\n",
       "    <tr style=\"text-align: right;\">\n",
       "      <th>Category</th>\n",
       "      <th>Furniture</th>\n",
       "      <th>Office Supplies</th>\n",
       "      <th>Technology</th>\n",
       "    </tr>\n",
       "    <tr>\n",
       "      <th>Order.Month</th>\n",
       "      <th></th>\n",
       "      <th></th>\n",
       "      <th></th>\n",
       "    </tr>\n",
       "  </thead>\n",
       "  <tbody>\n",
       "    <tr>\n",
       "      <th>1</th>\n",
       "      <td>437.50</td>\n",
       "      <td>1370.00</td>\n",
       "      <td>410.50</td>\n",
       "    </tr>\n",
       "    <tr>\n",
       "      <th>2</th>\n",
       "      <td>373.50</td>\n",
       "      <td>1085.00</td>\n",
       "      <td>398.75</td>\n",
       "    </tr>\n",
       "    <tr>\n",
       "      <th>3</th>\n",
       "      <td>524.50</td>\n",
       "      <td>1570.75</td>\n",
       "      <td>502.25</td>\n",
       "    </tr>\n",
       "    <tr>\n",
       "      <th>4</th>\n",
       "      <td>501.25</td>\n",
       "      <td>1597.75</td>\n",
       "      <td>517.50</td>\n",
       "    </tr>\n",
       "    <tr>\n",
       "      <th>5</th>\n",
       "      <td>621.00</td>\n",
       "      <td>2042.50</td>\n",
       "      <td>635.50</td>\n",
       "    </tr>\n",
       "    <tr>\n",
       "      <th>6</th>\n",
       "      <td>858.50</td>\n",
       "      <td>2753.00</td>\n",
       "      <td>890.75</td>\n",
       "    </tr>\n",
       "    <tr>\n",
       "      <th>7</th>\n",
       "      <td>539.25</td>\n",
       "      <td>1654.50</td>\n",
       "      <td>567.75</td>\n",
       "    </tr>\n",
       "    <tr>\n",
       "      <th>8</th>\n",
       "      <td>764.75</td>\n",
       "      <td>2754.75</td>\n",
       "      <td>879.50</td>\n",
       "    </tr>\n",
       "    <tr>\n",
       "      <th>9</th>\n",
       "      <td>1027.75</td>\n",
       "      <td>3143.00</td>\n",
       "      <td>949.00</td>\n",
       "    </tr>\n",
       "    <tr>\n",
       "      <th>10</th>\n",
       "      <td>830.75</td>\n",
       "      <td>2396.25</td>\n",
       "      <td>848.75</td>\n",
       "    </tr>\n",
       "    <tr>\n",
       "      <th>11</th>\n",
       "      <td>1117.75</td>\n",
       "      <td>3382.25</td>\n",
       "      <td>1094.75</td>\n",
       "    </tr>\n",
       "    <tr>\n",
       "      <th>12</th>\n",
       "      <td>1126.50</td>\n",
       "      <td>3311.25</td>\n",
       "      <td>1099.00</td>\n",
       "    </tr>\n",
       "  </tbody>\n",
       "</table>\n",
       "</div>"
      ],
      "text/plain": [
       "Category     Furniture  Office Supplies  Technology\n",
       "Order.Month                                        \n",
       "1               437.50          1370.00      410.50\n",
       "2               373.50          1085.00      398.75\n",
       "3               524.50          1570.75      502.25\n",
       "4               501.25          1597.75      517.50\n",
       "5               621.00          2042.50      635.50\n",
       "6               858.50          2753.00      890.75\n",
       "7               539.25          1654.50      567.75\n",
       "8               764.75          2754.75      879.50\n",
       "9              1027.75          3143.00      949.00\n",
       "10              830.75          2396.25      848.75\n",
       "11             1117.75          3382.25     1094.75\n",
       "12             1126.50          3311.25     1099.00"
      ]
     },
     "execution_count": 26,
     "metadata": {},
     "output_type": "execute_result"
    }
   ],
   "source": [
    "orders_df.groupby(['Order.Month', 'Order.Year', 'Category'])['Quantity'].sum().unstack('Order.Year').mean(axis=1).unstack('Category')"
   ]
  },
  {
   "cell_type": "code",
   "execution_count": 27,
   "id": "663ac6d2",
   "metadata": {},
   "outputs": [
    {
     "name": "stdout",
     "output_type": "stream",
     "text": [
      "Category     Furniture  Office Supplies  Technology\n",
      "Order.Month                                        \n",
      "1               437.50          1370.00      410.50\n",
      "2               373.50          1085.00      398.75\n",
      "3               524.50          1570.75      502.25\n",
      "4               501.25          1597.75      517.50\n",
      "5               621.00          2042.50      635.50\n",
      "6               858.50          2753.00      890.75\n",
      "7               539.25          1654.50      567.75\n",
      "8               764.75          2754.75      879.50\n",
      "9              1027.75          3143.00      949.00\n",
      "10              830.75          2396.25      848.75\n",
      "11             1117.75          3382.25     1094.75\n",
      "12             1126.50          3311.25     1099.00\n"
     ]
    },
    {
     "data": {
      "image/png": "[encoded data removed]",
      "text/plain": [
       "<Figure size 432x288 with 1 Axes>"
      ]
     },
     "metadata": {
      "needs_background": "light"
     },
     "output_type": "display_data"
    },
    {
     "name": "stdout",
     "output_type": "stream",
     "text": [
      "Category     Furniture  Office Supplies  Technology\n",
      "Order.Month                                        \n",
      "1             0.388371         0.405056    0.373521\n",
      "2             0.331558         0.320792    0.362830\n",
      "3             0.465601         0.464410    0.457006\n",
      "4             0.444962         0.472393    0.470883\n",
      "5             0.551265         0.603888    0.578253\n",
      "6             0.762095         0.813955    0.810510\n",
      "7             0.478695         0.489171    0.516606\n",
      "8             0.678873         0.814473    0.800273\n",
      "9             0.912339         0.929263    0.863512\n",
      "10            0.737461         0.708478    0.772293\n",
      "11            0.992233         1.000000    0.996133\n",
      "12            1.000000         0.979008    1.000000\n"
     ]
    },
    {
     "data": {
      "image/png": "[encoded data removed]",
      "text/plain": [
       "<Figure size 432x288 with 1 Axes>"
      ]
     },
     "metadata": {
      "needs_background": "light"
     },
     "output_type": "display_data"
    },
    {
     "data": {
      "image/png": "[encoded data removed]",
      "text/plain": [
       "<Figure size 432x288 with 1 Axes>"
      ]
     },
     "metadata": {
      "needs_background": "light"
     },
     "output_type": "display_data"
    }
   ],
   "source": [
    "df = orders_df.groupby(['Order.Month', 'Order.Year', 'Category'])['Quantity'].sum().unstack('Order.Year').mean(axis=1).unstack('Category')\n",
    "#df_scaled = df.apply(lambda x: x / x.iloc[0]) # Scale by the first month\n",
    "df_scaled = df.apply(lambda x: x / max(x))     # Scale by the maximum month\n",
    "print(df)\n",
    "df.plot(title=\"(Average) Number of Products Ordered by Month, by Category\")\n",
    "plt.show()\n",
    "print(df_scaled)\n",
    "df_scaled.plot(title=\"(Average) Number of Products Ordered by Month, by Category\\n(Scaled by Maximum Month)\")\n",
    "# Show general trend for comparison\n",
    "month_df.plot(y=\"mean\", color='y', title=\"(Average) Number of Products Ordered by Month\")\n",
    "plt.show()"
   ]
  },
  {
   "cell_type": "markdown",
   "id": "ed4fdde4",
   "metadata": {},
   "source": [
    "**Observations:**\n",
    "\n",
    "* It's easier to see the seasonality trends for the different categories in the scaled version.\n",
    "* The different categories follow the same seasonality trend, which is the same as the general (average) trend.\n",
    "* There are clear seasonality trends that are important to know for inventory management."
   ]
  },
  {
   "cell_type": "code",
   "execution_count": null,
   "id": "4d5b9b9b",
   "metadata": {},
   "outputs": [],
   "source": []
  },
  {
   "cell_type": "markdown",
   "id": "cbad0277",
   "metadata": {},
   "source": [
    "### Problem 3: Why did customers make returns?\n",
    "- Your manager required you to give a brief report (**Plots + Interpretations**) on returned orders.\n",
    "\n",
    "\t1. How much profit did we lose due to returns each year?\n",
    "\n",
    "\t2. How many customer returned more than once? more than 5 times?\n",
    "\n",
    "\t3. Which regions are more likely to return orders?\n",
    "\n",
    "\t4. Which categories (sub-categories) of products are more likely to be returned?\n",
    "\n",
    "- ***Hint:*** Merge the **Returns** dataframe with the **Orders** dataframe using `Order.ID`."
   ]
  },
  {
   "cell_type": "code",
   "execution_count": 29,
   "id": "4bdc3bb4",
   "metadata": {},
   "outputs": [
    {
     "name": "stdout",
     "output_type": "stream",
     "text": [
      "<class 'pandas.core.frame.DataFrame'>\n",
      "RangeIndex: 1079 entries, 0 to 1078\n",
      "Data columns (total 3 columns):\n",
      " #   Column    Non-Null Count  Dtype \n",
      "---  ------    --------------  ----- \n",
      " 0   Returned  1079 non-null   object\n",
      " 1   Order ID  1079 non-null   object\n",
      " 2   Region    1079 non-null   object\n",
      "dtypes: object(3)\n",
      "memory usage: 25.4+ KB\n"
     ]
    }
   ],
   "source": [
    "returns_df.info()"
   ]
  },
  {
   "cell_type": "code",
   "execution_count": 31,
   "id": "4b69c6d7",
   "metadata": {},
   "outputs": [
    {
     "data": {
      "text/html": [
       "<div>\n",
       "<style scoped>\n",
       "    .dataframe tbody tr th:only-of-type {\n",
       "        vertical-align: middle;\n",
       "    }\n",
       "\n",
       "    .dataframe tbody tr th {\n",
       "        vertical-align: top;\n",
       "    }\n",
       "\n",
       "    .dataframe thead th {\n",
       "        text-align: right;\n",
       "    }\n",
       "</style>\n",
       "<table border=\"1\" class=\"dataframe\">\n",
       "  <thead>\n",
       "    <tr style=\"text-align: right;\">\n",
       "      <th></th>\n",
       "      <th>Returned</th>\n",
       "      <th>Order ID</th>\n",
       "      <th>Region</th>\n",
       "    </tr>\n",
       "  </thead>\n",
       "  <tbody>\n",
       "    <tr>\n",
       "      <th>0</th>\n",
       "      <td>Yes</td>\n",
       "      <td>CA-2012-SA20830140-41210</td>\n",
       "      <td>Central US</td>\n",
       "    </tr>\n",
       "    <tr>\n",
       "      <th>1</th>\n",
       "      <td>Yes</td>\n",
       "      <td>IN-2012-PB19210127-41259</td>\n",
       "      <td>Eastern Asia</td>\n",
       "    </tr>\n",
       "    <tr>\n",
       "      <th>2</th>\n",
       "      <td>Yes</td>\n",
       "      <td>CA-2012-SC20095140-41174</td>\n",
       "      <td>Central US</td>\n",
       "    </tr>\n",
       "    <tr>\n",
       "      <th>3</th>\n",
       "      <td>Yes</td>\n",
       "      <td>IN-2015-JH158207-42140</td>\n",
       "      <td>Oceania</td>\n",
       "    </tr>\n",
       "    <tr>\n",
       "      <th>4</th>\n",
       "      <td>Yes</td>\n",
       "      <td>IN-2014-LC168857-41747</td>\n",
       "      <td>Oceania</td>\n",
       "    </tr>\n",
       "  </tbody>\n",
       "</table>\n",
       "</div>"
      ],
      "text/plain": [
       "  Returned                  Order ID        Region\n",
       "0      Yes  CA-2012-SA20830140-41210    Central US\n",
       "1      Yes  IN-2012-PB19210127-41259  Eastern Asia\n",
       "2      Yes  CA-2012-SC20095140-41174    Central US\n",
       "3      Yes    IN-2015-JH158207-42140       Oceania\n",
       "4      Yes    IN-2014-LC168857-41747       Oceania"
      ]
     },
     "execution_count": 31,
     "metadata": {},
     "output_type": "execute_result"
    }
   ],
   "source": [
    "returns_df.head()"
   ]
  },
  {
   "cell_type": "code",
   "execution_count": 34,
   "id": "d7bc0293",
   "metadata": {},
   "outputs": [],
   "source": [
    "def clean_returns_dataset(raw_df):\n",
    "    \n",
    "    # Clean dataframe copy\n",
    "    clean_df = raw_df.copy()\n",
    "    \n",
    "    # Transform from object to boolean\n",
    "    clean_df[\"Returned\"] = raw_df[\"Returned\"].replace(\"Yes\", True)\n",
    "    \n",
    "    # Rename 'Order ID' to 'Order.ID' to match orders data\n",
    "    clean_df.rename(columns={'Order ID': 'Order.ID'}, inplace=True)\n",
    "    \n",
    "    return clean_df"
   ]
  },
  {
   "cell_type": "code",
   "execution_count": 37,
   "id": "0cf07c5e",
   "metadata": {},
   "outputs": [],
   "source": [
    "return_cdf = clean_returns_dataset(returns_df)"
   ]
  },
  {
   "cell_type": "markdown",
   "id": "10e243b7",
   "metadata": {},
   "source": [
    "### Merging Returns and Orders by Order ID"
   ]
  },
  {
   "cell_type": "code",
   "execution_count": null,
   "id": "89abefdb",
   "metadata": {},
   "outputs": [],
   "source": []
  },
  {
   "cell_type": "code",
   "execution_count": null,
   "id": "c7c433d9",
   "metadata": {},
   "outputs": [],
   "source": []
  },
  {
   "cell_type": "markdown",
   "id": "53ca9eec",
   "metadata": {},
   "source": [
    "\n",
    "## Part II: Machine Learning and Business Use Case\n",
    "\n",
    "Now your manager has a basic understanding of why customers returned orders. Next, he wants you to use machine learning to predict which orders are most likely to be returned. In this part, you will generate several features based on our previous findings and your manager's requirements."
   ]
  },
  {
   "cell_type": "code",
   "execution_count": null,
   "id": "598ead97",
   "metadata": {},
   "outputs": [],
   "source": []
  },
  {
   "cell_type": "code",
   "execution_count": null,
   "id": "23c5763c",
   "metadata": {},
   "outputs": [],
   "source": []
  },
  {
   "cell_type": "code",
   "execution_count": null,
   "id": "d3557034",
   "metadata": {},
   "outputs": [],
   "source": []
  },
  {
   "cell_type": "markdown",
   "id": "60999b61",
   "metadata": {},
   "source": [
    "### Problem 4: Feature Engineering\n",
    "#### Step 1: Create the dependent variable\n",
    "- First of all, we need to generate a categorical variable which indicates whether an order has been returned or not.\n",
    "- ***Hint:*** the returned orders’ IDs are contained in the dataset “returns”\n",
    "\n",
    "\n",
    "#### Step 2:\n",
    "- Your manager believes that **how long it took the order to ship** would affect whether the customer would return it or not. \n",
    "- He wants you to generate a feature which can measure how long it takes the company to process each order.\n",
    "- ***Hint:*** Process.Time = Ship.Date - Order.Date\n",
    "\n",
    "\n",
    "#### Step 3:\n",
    "\n",
    "- If a product has been returned before, it may be returned again. \n",
    "- Let us generate a feature indictes how many times the product has been returned before.\n",
    "- If it never got returned, we just impute using 0.\n",
    "- ***Hint:*** Group by different Product.ID\n",
    "\n"
   ]
  },
  {
   "cell_type": "code",
   "execution_count": null,
   "id": "8c1d9de1",
   "metadata": {},
   "outputs": [],
   "source": []
  },
  {
   "cell_type": "code",
   "execution_count": null,
   "id": "d243f631",
   "metadata": {},
   "outputs": [],
   "source": []
  },
  {
   "cell_type": "markdown",
   "id": "60bed2fd",
   "metadata": {},
   "source": [
    "### Problem 5: Fitting Models\n",
    "\n",
    "- You can use any binary classification method you have learned so far.\n",
    "- Use 80/20 training and test splits to build your model. \n",
    "- Double check the column types before you fit the model.\n",
    "- Only include useful features. i.e all the `ID`s should be excluded from your training set.\n",
    "- Note that there are only less than 5% of the orders have been returned, so you should consider using the [createDataPartition](https://www.rdocumentation.org/packages/caret/versions/6.0-80/topics/createDataPartition) function from `caret` package and [StratifiedKfold](http://scikit-learn.org/stable/modules/generated/sklearn.model_selection.StratifiedKFold.html#sklearn-model-selection-stratifiedkfold) from sklearn when running cross-validation.\n",
    "- Do forget to `set.seed()` before the spilt to make your result reproducible.\n",
    "- **Note:** We are not looking for the best tuned model in the lab so don't spend too much time on grid search. Focus on model evaluation and the business use case of each model."
   ]
  },
  {
   "cell_type": "code",
   "execution_count": null,
   "id": "e2a0fbe2",
   "metadata": {},
   "outputs": [],
   "source": []
  },
  {
   "cell_type": "markdown",
   "id": "42508279",
   "metadata": {},
   "source": [
    "### Problem 6: Evaluating Models\n",
    "- What is the best metric to evaluate your model. Is accuracy good for this case?\n",
    "- Now you have multiple models, which one would you pick? \n",
    "- Can you get any clue from the confusion matrix? What is the meaning of precision and recall in this case? Which one do you care the most? How will your model help the manager make decisions?\n",
    "- **Note:** The last question is open-ended. Your answer could be completely different depending on your understanding of this business problem."
   ]
  },
  {
   "cell_type": "code",
   "execution_count": null,
   "id": "831a57cf",
   "metadata": {},
   "outputs": [],
   "source": []
  },
  {
   "cell_type": "markdown",
   "id": "ce884188",
   "metadata": {},
   "source": [
    "\n",
    "### Problem 7: Feature Engineering Revisit\n",
    "- Is there anything wrong with the new feature we generated? How should we fix it?\n",
    "- ***Hint***: For the real test set, we do not know it will get returned or not."
   ]
  },
  {
   "cell_type": "code",
   "execution_count": null,
   "id": "0679bd8c",
   "metadata": {},
   "outputs": [],
   "source": []
  }
 ],
 "metadata": {
  "kernelspec": {
   "display_name": "Python 3 (ipykernel)",
   "language": "python",
   "name": "python3"
  },
  "language_info": {
   "codemirror_mode": {
    "name": "ipython",
    "version": 3
   },
   "file_extension": ".py",
   "mimetype": "text/x-python",
   "name": "python",
   "nbconvert_exporter": "python",
   "pygments_lexer": "ipython3",
   "version": "3.9.5"
  }
 },
 "nbformat": 4,
 "nbformat_minor": 5
}
